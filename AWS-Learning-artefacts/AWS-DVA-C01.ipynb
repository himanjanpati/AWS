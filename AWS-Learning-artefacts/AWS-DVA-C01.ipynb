{
 "cells": [
  {
   "cell_type": "markdown",
   "metadata": {},
   "source": [
    "### AWS code commit\n",
    "Authentication\n",
    " - SSH, HTTPS (IAM user name and password), access key (auth through AWS CLI)\n",
    " - Encryption at rest using KMS\n"
   ]
  },
  {
   "cell_type": "markdown",
   "metadata": {},
   "source": [
    "### Elastic Beanstalk\n",
    "deployment models\n",
    "- All at once : quickest deployment, short loss of service/downtime (as web proxy/app server restarts)\n",
    "- Rolling : No downtime, deployment happens in batches, longer deployment\n",
    "- Rolling with additional batch : extra cost(Rolling + additional batch), maintains high availability (constant bandwidth throughout deployment), longer deployment time than rolling\n",
    "- immutable : Slower deployment, deployed to new instances with 2nd ASG, serves traffic once health check passed, higher cost, qucik rollback\n",
    "- traffic splitting : canary deployment, tests for small traffic to new app\n",
    "\n",
    "* immutable updates/traffic splitting/Managed platform updates with instance replacement enabled: repleces all instances.\n",
    "causes all accumulated Amazon EC2 burst balances to be lost"
   ]
  },
  {
   "cell_type": "markdown",
   "metadata": {},
   "source": [
    "### SQS\n",
    "- delete-queue: deletes the queue with content, takes 60secs\n",
    "- purge-queue : deletes the messages\n",
    "- removepermission: removes permission matching the label"
   ]
  }
 ],
 "metadata": {
  "language_info": {
   "name": "python"
  },
  "orig_nbformat": 4
 },
 "nbformat": 4,
 "nbformat_minor": 2
}
