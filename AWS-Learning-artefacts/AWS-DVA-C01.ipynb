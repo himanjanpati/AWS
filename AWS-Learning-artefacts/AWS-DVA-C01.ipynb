{
 "cells": [
  {
   "cell_type": "markdown",
   "metadata": {},
   "source": [
    "### AWS code commit\n",
    "Authentication\n",
    " - SSH, HTTPS (IAM user name and password), access key (auth through AWS CLI)\n",
    " - Encryption at rest using KMS\n"
   ]
  }
 ],
 "metadata": {
  "language_info": {
   "name": "python"
  },
  "orig_nbformat": 4
 },
 "nbformat": 4,
 "nbformat_minor": 2
}
